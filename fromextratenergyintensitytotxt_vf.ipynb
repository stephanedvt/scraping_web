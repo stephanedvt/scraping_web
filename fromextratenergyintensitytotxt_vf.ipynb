{
 "cells": [
  {
   "cell_type": "code",
   "execution_count": null,
   "id": "33e45601-ef62-481b-8944-567a552fd91d",
   "metadata": {},
   "outputs": [],
   "source": [
    "import tkinter as tk\n",
    "from tkinter import messagebox\n",
    "import os\n",
    "\n",
    "def save_numbers_to_file(input_numbers, filepath):\n",
    "    \"\"\"Takes a list of numbers and saves them in two columns to a file.\n",
    "\n",
    "    Args:\n",
    "        input_numbers: A list of numbers (floats).\n",
    "        filepath: The path to the file where the numbers will be saved.\n",
    "    \"\"\"\n",
    "    # Ensure the directory for the file exists\n",
    "    os.makedirs(os.path.dirname(filepath), exist_ok=True)\n",
    "\n",
    "    # Separate odd- and even-indexed numbers (could use slicing instead)\n",
    "    si1 = input_numbers[::2]\n",
    "    sp1 = input_numbers[1::2]\n",
    "\n",
    "    with open(filepath, 'w') as file:\n",
    "        file.write('SI1\\t' + '\\t'.join(map(str, si1)) + '\\n')\n",
    "        file.write('SP1\\t' + '\\t'.join(map(str, sp1)) + '\\n')\n",
    "\n",
    "def on_save_button_click():\n",
    "    input_numbers = entry.get()\n",
    "    try:\n",
    "        numbers = [float(num) for num in input_numbers.split()]\n",
    "        output_path = r\"C:\\Users\\admin\\Documents\\jupyter_lab\\application_cea\\numbers.txt\"\n",
    "        save_numbers_to_file(numbers, output_path)\n",
    "        messagebox.showinfo(\"Success\", f\"Numbers have been saved to {output_path}\")\n",
    "    except ValueError:\n",
    "        messagebox.showerror(\"Error\", \"Please enter a valid list of numbers separated by spaces.\")\n",
    "\n",
    "# Set up the main application window\n",
    "root = tk.Tk()\n",
    "root.title(\"Save Numbers to File\")\n",
    "\n",
    "# Create and place the entry widget\n",
    "entry_label = tk.Label(root, text=\"Enter a list of numbers separated by spaces:\")\n",
    "entry_label.pack(pady=10)\n",
    "entry = tk.Entry(root, width=50)\n",
    "entry.pack(pady=5)\n",
    "\n",
    "# Create and place the save button\n",
    "save_button = tk.Button(root, text=\"Save to File\", command=on_save_button_click)\n",
    "save_button.pack(pady=20)\n",
    "\n",
    "# Start the Tkinter event loop\n",
    "root.mainloop()"
   ]
  },
  {
   "cell_type": "code",
   "execution_count": null,
   "id": "1f9395ea-a3f5-4d5a-8caa-fed039ffaece",
   "metadata": {},
   "outputs": [],
   "source": []
  }
 ],
 "metadata": {
  "kernelspec": {
   "display_name": "Python 3 (ipykernel)",
   "language": "python",
   "name": "python3"
  },
  "language_info": {
   "codemirror_mode": {
    "name": "ipython",
    "version": 3
   },
   "file_extension": ".py",
   "mimetype": "text/x-python",
   "name": "python",
   "nbconvert_exporter": "python",
   "pygments_lexer": "ipython3",
   "version": "3.11.7"
  }
 },
 "nbformat": 4,
 "nbformat_minor": 5
}
